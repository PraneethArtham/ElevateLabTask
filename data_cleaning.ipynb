import pandas as pd
import numpy as np
import seaborn as sns
import matplotlib.pyplot as plt
from sklearn.preprocessing import StandardScaler, LabelEncoder
# Step 1: Load the Titanic dataset
df = pd.read_csv("titanic.csv")
print("info about the data:")
print(df.info())
print("\n statistics:")
print(df.describe())

# Step 2: Deal with missing values
df['Age'].fillna(df['Age'].median(), inplace=True)
df['Embarked'].fillna(df['Embarked'].mode()[0], inplace=True)
df.drop(columns=['Cabin'], inplace=True)

# Step 3: Convert text categories into numbers
df['Sex'] = LabelEncoder().fit_transform(df['Sex'])
df = pd.get_dummies(df, columns=['Embarked'], drop_first=True)

# Step 4: Scale the numerical features
scaler = StandardScaler()
df[['Age', 'Fare']] = scaler.fit_transform(df[['Age', 'Fare']])

# Step 5: Detect and remove outliers using the IQR (Interquartile Range) method
for column in ['Age', 'Fare']:
    Q1 = df[column].quantile(0.25)
    Q3 = df[column].quantile(0.75)
    IQR = Q3 - Q1
    lower_bound = Q1 - 1.5 * IQR
    upper_bound = Q3 + 1.5 * IQR
    df = df[(df[column] >= lower_bound) & (df[column] <= upper_bound)]

# Step 6: Save the cleaned data
df.to_csv("titanic_cleaned.csv", index=False)
print("\nData cleaning completed")
